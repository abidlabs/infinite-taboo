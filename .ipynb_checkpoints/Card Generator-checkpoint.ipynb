{
 "cells": [
  {
   "cell_type": "code",
   "execution_count": 67,
   "metadata": {},
   "outputs": [
    {
     "name": "stderr",
     "output_type": "stream",
     "text": [
      "[nltk_data] Downloading package brown to\n",
      "[nltk_data]     C:\\Users\\islam\\AppData\\Roaming\\nltk_data...\n",
      "[nltk_data]   Package brown is already up-to-date!\n",
      "[nltk_data] Downloading package wordnet to\n",
      "[nltk_data]     C:\\Users\\islam\\AppData\\Roaming\\nltk_data...\n",
      "[nltk_data]   Unzipping corpora\\wordnet.zip.\n"
     ]
    }
   ],
   "source": [
    "import nltk\n",
    "nltk.download('brown')\n",
    "nltk.download('wordnet')\n",
    "from nltk import FreqDist\n",
    "from nltk.corpus import brown\n",
    "frequency_list = FreqDist(i.lower() for i in brown.words())"
   ]
  },
  {
   "cell_type": "code",
   "execution_count": 22,
   "metadata": {},
   "outputs": [],
   "source": [
    "words, counts = zip(*frequency_list.items())"
   ]
  },
  {
   "cell_type": "code",
   "execution_count": 61,
   "metadata": {},
   "outputs": [],
   "source": [
    "sorted_words = [x for y, x in sorted(zip(counts, words))]\n",
    "sorted_counts = [y for y, x in sorted(zip(counts, words))]\n",
    "\n",
    "count_min = 150\n",
    "count_max = 1000\n",
    "len_word_min = 4\n",
    "len_word_max = 10"
   ]
  },
  {
   "cell_type": "code",
   "execution_count": 63,
   "metadata": {},
   "outputs": [],
   "source": [
    "middle_words = [sorted_words[i] for i, count in enumerate(sorted_counts) if \n",
    "                (HIGH_THRESH > count > LOW_THRESH) and (len_word_max > len(sorted_words[i]) > len_word_min)]"
   ]
  },
  {
   "cell_type": "code",
   "execution_count": 65,
   "metadata": {},
   "outputs": [],
   "source": [
    "from nltk.corpus import wordnet "
   ]
  },
  {
   "cell_type": "code",
   "execution_count": 74,
   "metadata": {},
   "outputs": [
    {
     "data": {
      "text/plain": [
       "[]"
      ]
     },
     "execution_count": 74,
     "metadata": {},
     "output_type": "execute_result"
    }
   ],
   "source": [
    "syn.hyponyms()"
   ]
  },
  {
   "cell_type": "code",
   "execution_count": null,
   "metadata": {},
   "outputs": [],
   "source": [
    "        taboo_words.extned([l.name() for l in syn.lemmas()])  # synonyms\n",
    "\n"
   ]
  },
  {
   "cell_type": "code",
   "execution_count": 78,
   "metadata": {},
   "outputs": [
    {
     "data": {
      "text/plain": [
       "[Lemma('conductor.n.01.conductor'),\n",
       " Lemma('conductor.n.01.music_director'),\n",
       " Lemma('conductor.n.01.director')]"
      ]
     },
     "execution_count": 78,
     "metadata": {},
     "output_type": "execute_result"
    }
   ],
   "source": [
    "syn.lemmas()"
   ]
  },
  {
   "cell_type": "code",
   "execution_count": 94,
   "metadata": {},
   "outputs": [],
   "source": [
    "all_key_words = []\n",
    "all_taboo_words = []\n",
    "\n",
    "for k, key_word in enumerate(middle_words):\n",
    "    all_key_words.append(key_word)\n",
    "    \n",
    "    taboo_words = [] \n",
    "    for syn in wordnet.synsets(key_word): \n",
    "        taboo_words.extend([l.name() for l in syn.lemmas()])  # synonyms\n",
    "        taboo_words.extend([l.antonyms()[0].name() for l in syn.lemmas() if l.antonyms()])  # antonyms \n",
    "        taboo_words.extend([l.name() for l in syn.hypernyms()])  # hypernyms \n",
    "        taboo_words.extend([l.name() for l in syn.hyponyms()])  # hyponyms \n",
    "    \n",
    "    all_taboo_words.append(taboo_words)"
   ]
  },
  {
   "cell_type": "markdown",
   "metadata": {},
   "source": [
    "Remove silly words and sort by frequency"
   ]
  },
  {
   "cell_type": "markdown",
   "metadata": {},
   "source": [
    "# Generate Cards"
   ]
  },
  {
   "cell_type": "code",
   "execution_count": null,
   "metadata": {},
   "outputs": [],
   "source": []
  }
 ],
 "metadata": {
  "kernelspec": {
   "display_name": "Python 3",
   "language": "python",
   "name": "python3"
  },
  "language_info": {
   "codemirror_mode": {
    "name": "ipython",
    "version": 3
   },
   "file_extension": ".py",
   "mimetype": "text/x-python",
   "name": "python",
   "nbconvert_exporter": "python",
   "pygments_lexer": "ipython3",
   "version": "3.7.6"
  }
 },
 "nbformat": 4,
 "nbformat_minor": 4
}
